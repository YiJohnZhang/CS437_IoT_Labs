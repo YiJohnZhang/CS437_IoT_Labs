{
 "cells": [
  {
   "cell_type": "code",
   "execution_count": 10,
   "id": "e3cfb89f",
   "metadata": {},
   "outputs": [],
   "source": [
    "from tensorflow.keras.preprocessing import image\n",
    "import numpy as np\n",
    "import tensorflow as tf\n",
    "from tensorflow.keras.models import load_model"
   ]
  },
  {
   "cell_type": "code",
   "execution_count": 11,
   "id": "f559ce31",
   "metadata": {},
   "outputs": [],
   "source": [
    "# Load Model\n",
    "model = load_model(\"mobilenetv2_custom.keras\")"
   ]
  },
  {
   "cell_type": "code",
   "execution_count": 12,
   "id": "9e56720e",
   "metadata": {},
   "outputs": [
    {
     "name": "stdout",
     "output_type": "stream",
     "text": [
      "\u001b[1m1/1\u001b[0m \u001b[32m━━━━━━━━━━━━━━━━━━━━\u001b[0m\u001b[37m\u001b[0m \u001b[1m1s\u001b[0m 899ms/step\n",
      "Result: stop sign\n"
     ]
    }
   ],
   "source": [
    "# Read Pic\n",
    "img_path = \"dataset/test/7.png\"\n",
    "img = image.load_img(img_path, target_size=(224, 224))\n",
    "img_array = image.img_to_array(img)\n",
    "img_array = np.expand_dims(img_array, axis=0)\n",
    "\n",
    "# Predict\n",
    "pred = model.predict(img_array)\n",
    "class_names = ['stop sign', 'traffic cone', 'traffic lights', 'walker']\n",
    "print(\"Result:\", class_names[np.argmax(pred)])\n"
   ]
  },
  {
   "cell_type": "markdown",
   "id": "8723c898",
   "metadata": {},
   "source": [
    "Using the Model from TrafficClassifier\n"
   ]
  },
  {
   "cell_type": "code",
   "execution_count": 1,
   "id": "11e2f45f",
   "metadata": {},
   "outputs": [
    {
     "name": "stderr",
     "output_type": "stream",
     "text": [
      "C:\\Users\\minqliu\\AppData\\Roaming\\Python\\Python39\\site-packages\\keras\\src\\saving\\saving_lib.py:802: UserWarning: Skipping variable loading for optimizer 'rmsprop', because it has 4 variables whereas the saved optimizer has 6 variables. \n",
      "  saveable.load_own_variables(weights_store.get(inner_path))\n"
     ]
    }
   ],
   "source": [
    "from PicPredict import TrafficClassifier\n",
    "\n",
    "clf = TrafficClassifier()"
   ]
  },
  {
   "cell_type": "code",
   "execution_count": 6,
   "id": "a9bfa4ad",
   "metadata": {},
   "outputs": [
    {
     "data": {
      "text/plain": [
       "('walker', 0.9996342658996582)"
      ]
     },
     "execution_count": 6,
     "metadata": {},
     "output_type": "execute_result"
    }
   ],
   "source": [
    "\n",
    "label, score= clf.ImagePredict(\"dataset/test/1.png\")\n",
    "\n",
    "label, score\n"
   ]
  }
 ],
 "metadata": {
  "kernelspec": {
   "display_name": "Python 3",
   "language": "python",
   "name": "python3"
  },
  "language_info": {
   "codemirror_mode": {
    "name": "ipython",
    "version": 3
   },
   "file_extension": ".py",
   "mimetype": "text/x-python",
   "name": "python",
   "nbconvert_exporter": "python",
   "pygments_lexer": "ipython3",
   "version": "3.9.13"
  }
 },
 "nbformat": 4,
 "nbformat_minor": 5
}
