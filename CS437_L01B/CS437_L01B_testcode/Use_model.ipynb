{
 "cells": [
  {
   "cell_type": "code",
   "execution_count": null,
   "id": "e3cfb89f",
   "metadata": {},
   "outputs": [],
   "source": [
    "from tensorflow.keras.preprocessing import image\n",
    "import numpy as np\n",
    "import tensorflow as tf\n",
    "from tensorflow.keras.models import load_model"
   ]
  },
  {
   "cell_type": "code",
   "execution_count": null,
   "id": "f559ce31",
   "metadata": {},
   "outputs": [],
   "source": [
    "# Load Model\n",
    "model = load_model(\"mobilenetv2_custom.keras\")"
   ]
  },
  {
   "cell_type": "code",
   "execution_count": 39,
   "id": "9e56720e",
   "metadata": {},
   "outputs": [
    {
     "name": "stdout",
     "output_type": "stream",
     "text": [
      "\u001b[1m1/1\u001b[0m \u001b[32m━━━━━━━━━━━━━━━━━━━━\u001b[0m\u001b[37m\u001b[0m \u001b[1m0s\u001b[0m 55ms/step\n",
      "Result: stop sign\n"
     ]
    }
   ],
   "source": [
    "# Read Pic\n",
    "img_path = \"dataset/test/7.png\"\n",
    "img = image.load_img(img_path, target_size=(224, 224))\n",
    "img_array = image.img_to_array(img)\n",
    "img_array = np.expand_dims(img_array, axis=0)\n",
    "\n",
    "# Predict\n",
    "pred = model.predict(img_array)\n",
    "class_names = ['stop sign', 'traffic cone', 'traffic lights', 'walker']\n",
    "print(\"Result:\", class_names[np.argmax(pred)])\n"
   ]
  },
  {
   "cell_type": "markdown",
   "id": "8723c898",
   "metadata": {},
   "source": [
    "Using the Model from TrafficClassifier\n"
   ]
  },
  {
   "cell_type": "code",
   "execution_count": 5,
   "id": "11e2f45f",
   "metadata": {},
   "outputs": [],
   "source": [
    "from PicPredict import TrafficClassifier\n",
    "\n",
    "clf = TrafficClassifier()"
   ]
  },
  {
   "cell_type": "code",
   "execution_count": 4,
   "id": "a9bfa4ad",
   "metadata": {},
   "outputs": [
    {
     "data": {
      "text/plain": [
       "'walker'"
      ]
     },
     "execution_count": 4,
     "metadata": {},
     "output_type": "execute_result"
    }
   ],
   "source": [
    "\n",
    "label = clf.ImagePredict(\"dataset/test/1.png\")\n",
    "\n",
    "label\n"
   ]
  }
 ],
 "metadata": {
  "kernelspec": {
   "display_name": "Python 3",
   "language": "python",
   "name": "python3"
  },
  "language_info": {
   "codemirror_mode": {
    "name": "ipython",
    "version": 3
   },
   "file_extension": ".py",
   "mimetype": "text/x-python",
   "name": "python",
   "nbconvert_exporter": "python",
   "pygments_lexer": "ipython3",
   "version": "3.9.13"
  }
 },
 "nbformat": 4,
 "nbformat_minor": 5
}
